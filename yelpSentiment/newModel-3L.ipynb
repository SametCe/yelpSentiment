{
 "cells": [
  {
   "cell_type": "code",
   "execution_count": 1,
   "metadata": {},
   "outputs": [],
   "source": [
    "import pandas as pd\n",
    "import numpy as np\n",
    "\n",
    "from warnings import simplefilter\n",
    "simplefilter(action='ignore', category=FutureWarning)"
   ]
  },
  {
   "cell_type": "code",
   "execution_count": 2,
   "metadata": {},
   "outputs": [],
   "source": [
    "df = pd.read_csv(\"yelp.csv\")"
   ]
  },
  {
   "cell_type": "code",
   "execution_count": 3,
   "metadata": {},
   "outputs": [
    {
     "data": {
      "text/html": [
       "<div>\n",
       "<style scoped>\n",
       "    .dataframe tbody tr th:only-of-type {\n",
       "        vertical-align: middle;\n",
       "    }\n",
       "\n",
       "    .dataframe tbody tr th {\n",
       "        vertical-align: top;\n",
       "    }\n",
       "\n",
       "    .dataframe thead th {\n",
       "        text-align: right;\n",
       "    }\n",
       "</style>\n",
       "<table border=\"1\" class=\"dataframe\">\n",
       "  <thead>\n",
       "    <tr style=\"text-align: right;\">\n",
       "      <th></th>\n",
       "      <th>business_id</th>\n",
       "      <th>date</th>\n",
       "      <th>review_id</th>\n",
       "      <th>stars</th>\n",
       "      <th>text</th>\n",
       "      <th>type</th>\n",
       "      <th>user_id</th>\n",
       "      <th>cool</th>\n",
       "      <th>useful</th>\n",
       "      <th>funny</th>\n",
       "    </tr>\n",
       "  </thead>\n",
       "  <tbody>\n",
       "    <tr>\n",
       "      <td>0</td>\n",
       "      <td>9yKzy9PApeiPPOUJEtnvkg</td>\n",
       "      <td>2011-01-26</td>\n",
       "      <td>fWKvX83p0-ka4JS3dc6E5A</td>\n",
       "      <td>5</td>\n",
       "      <td>My wife took me here on my birthday for breakf...</td>\n",
       "      <td>review</td>\n",
       "      <td>rLtl8ZkDX5vH5nAx9C3q5Q</td>\n",
       "      <td>2</td>\n",
       "      <td>5</td>\n",
       "      <td>0</td>\n",
       "    </tr>\n",
       "    <tr>\n",
       "      <td>1</td>\n",
       "      <td>ZRJwVLyzEJq1VAihDhYiow</td>\n",
       "      <td>2011-07-27</td>\n",
       "      <td>IjZ33sJrzXqU-0X6U8NwyA</td>\n",
       "      <td>5</td>\n",
       "      <td>I have no idea why some people give bad review...</td>\n",
       "      <td>review</td>\n",
       "      <td>0a2KyEL0d3Yb1V6aivbIuQ</td>\n",
       "      <td>0</td>\n",
       "      <td>0</td>\n",
       "      <td>0</td>\n",
       "    </tr>\n",
       "    <tr>\n",
       "      <td>2</td>\n",
       "      <td>6oRAC4uyJCsJl1X0WZpVSA</td>\n",
       "      <td>2012-06-14</td>\n",
       "      <td>IESLBzqUCLdSzSqm0eCSxQ</td>\n",
       "      <td>4</td>\n",
       "      <td>love the gyro plate. Rice is so good and I als...</td>\n",
       "      <td>review</td>\n",
       "      <td>0hT2KtfLiobPvh6cDC8JQg</td>\n",
       "      <td>0</td>\n",
       "      <td>1</td>\n",
       "      <td>0</td>\n",
       "    </tr>\n",
       "    <tr>\n",
       "      <td>3</td>\n",
       "      <td>_1QQZuf4zZOyFCvXc0o6Vg</td>\n",
       "      <td>2010-05-27</td>\n",
       "      <td>G-WvGaISbqqaMHlNnByodA</td>\n",
       "      <td>5</td>\n",
       "      <td>Rosie, Dakota, and I LOVE Chaparral Dog Park!!...</td>\n",
       "      <td>review</td>\n",
       "      <td>uZetl9T0NcROGOyFfughhg</td>\n",
       "      <td>1</td>\n",
       "      <td>2</td>\n",
       "      <td>0</td>\n",
       "    </tr>\n",
       "    <tr>\n",
       "      <td>4</td>\n",
       "      <td>6ozycU1RpktNG2-1BroVtw</td>\n",
       "      <td>2012-01-05</td>\n",
       "      <td>1uJFq2r5QfJG_6ExMRCaGw</td>\n",
       "      <td>5</td>\n",
       "      <td>General Manager Scott Petello is a good egg!!!...</td>\n",
       "      <td>review</td>\n",
       "      <td>vYmM4KTsC8ZfQBg-j5MWkw</td>\n",
       "      <td>0</td>\n",
       "      <td>0</td>\n",
       "      <td>0</td>\n",
       "    </tr>\n",
       "  </tbody>\n",
       "</table>\n",
       "</div>"
      ],
      "text/plain": [
       "              business_id        date               review_id  stars  \\\n",
       "0  9yKzy9PApeiPPOUJEtnvkg  2011-01-26  fWKvX83p0-ka4JS3dc6E5A      5   \n",
       "1  ZRJwVLyzEJq1VAihDhYiow  2011-07-27  IjZ33sJrzXqU-0X6U8NwyA      5   \n",
       "2  6oRAC4uyJCsJl1X0WZpVSA  2012-06-14  IESLBzqUCLdSzSqm0eCSxQ      4   \n",
       "3  _1QQZuf4zZOyFCvXc0o6Vg  2010-05-27  G-WvGaISbqqaMHlNnByodA      5   \n",
       "4  6ozycU1RpktNG2-1BroVtw  2012-01-05  1uJFq2r5QfJG_6ExMRCaGw      5   \n",
       "\n",
       "                                                text    type  \\\n",
       "0  My wife took me here on my birthday for breakf...  review   \n",
       "1  I have no idea why some people give bad review...  review   \n",
       "2  love the gyro plate. Rice is so good and I als...  review   \n",
       "3  Rosie, Dakota, and I LOVE Chaparral Dog Park!!...  review   \n",
       "4  General Manager Scott Petello is a good egg!!!...  review   \n",
       "\n",
       "                  user_id  cool  useful  funny  \n",
       "0  rLtl8ZkDX5vH5nAx9C3q5Q     2       5      0  \n",
       "1  0a2KyEL0d3Yb1V6aivbIuQ     0       0      0  \n",
       "2  0hT2KtfLiobPvh6cDC8JQg     0       1      0  \n",
       "3  uZetl9T0NcROGOyFfughhg     1       2      0  \n",
       "4  vYmM4KTsC8ZfQBg-j5MWkw     0       0      0  "
      ]
     },
     "execution_count": 3,
     "metadata": {},
     "output_type": "execute_result"
    }
   ],
   "source": [
    "df.head()"
   ]
  },
  {
   "cell_type": "code",
   "execution_count": 4,
   "metadata": {},
   "outputs": [],
   "source": [
    "df = df[[\"stars\",\"text\"]]"
   ]
  },
  {
   "cell_type": "code",
   "execution_count": 5,
   "metadata": {},
   "outputs": [],
   "source": [
    "preprocessing = df[\"text\"]\n",
    "\n",
    "def firstFive(text):\n",
    "    for i in range(5):\n",
    "        print(preprocessing[i])\n",
    "        print(\"------------------------\")"
   ]
  },
  {
   "cell_type": "code",
   "execution_count": 6,
   "metadata": {},
   "outputs": [],
   "source": [
    "#firstFive(preprocessing)"
   ]
  },
  {
   "cell_type": "code",
   "execution_count": 7,
   "metadata": {},
   "outputs": [],
   "source": [
    "preprocessing = df[\"text\"].apply(lambda x: \" \".join(x.lower() for x in x.split()))"
   ]
  },
  {
   "cell_type": "code",
   "execution_count": 8,
   "metadata": {},
   "outputs": [
    {
     "data": {
      "text/plain": [
       "0       my wife took me here on my birthday for breakf...\n",
       "1       i have no idea why some people give bad review...\n",
       "2       love the gyro plate  rice is so good and i als...\n",
       "3       rosie  dakota  and i love chaparral dog park  ...\n",
       "4       general manager scott petello is a good egg   ...\n",
       "                              ...                        \n",
       "9995    first visit   had lunch here today   used my g...\n",
       "9996    should be called house of deliciousness  i cou...\n",
       "9997    i recently visited olive and ivy for business ...\n",
       "9998    my nephew just moved to scottsdale recently so...\n",
       "9999    4 5 locations   all 4 5 star average   i think...\n",
       "Name: text, Length: 10000, dtype: object"
      ]
     },
     "execution_count": 8,
     "metadata": {},
     "output_type": "execute_result"
    }
   ],
   "source": [
    "preprocessing = preprocessing.str.replace(\"[^\\w\\s]\",\" \")\n",
    "\n",
    "preprocessing"
   ]
  },
  {
   "cell_type": "code",
   "execution_count": 9,
   "metadata": {},
   "outputs": [
    {
     "data": {
      "text/plain": [
       "0       my wife took me here on my birthday for breakf...\n",
       "1       i have no idea why some people give bad review...\n",
       "2       love the gyro plate  rice is so good and i als...\n",
       "3       rosie  dakota  and i love chaparral dog park  ...\n",
       "4       general manager scott petello is a good egg   ...\n",
       "                              ...                        \n",
       "9995    first visit   had lunch here today   used my g...\n",
       "9996    should be called house of deliciousness  i cou...\n",
       "9997    i recently visited olive and ivy for business ...\n",
       "9998    my nephew just moved to scottsdale recently so...\n",
       "9999      locations   all   star average   i think ari...\n",
       "Name: text, Length: 10000, dtype: object"
      ]
     },
     "execution_count": 9,
     "metadata": {},
     "output_type": "execute_result"
    }
   ],
   "source": [
    "preprocessing = preprocessing.str.replace(\"\\d\",\"\")\n",
    "\n",
    "preprocessing"
   ]
  },
  {
   "cell_type": "code",
   "execution_count": 10,
   "metadata": {},
   "outputs": [],
   "source": [
    "import nltk\n",
    "\n",
    "#nltk.download(\"stopwords\")\n",
    "\n",
    "from nltk.corpus import stopwords\n",
    "\n",
    "preprocessing = preprocessing.apply(lambda x: \" \".join(x for x in x.split() if x not in stopwords.words(\"english\")))"
   ]
  },
  {
   "cell_type": "code",
   "execution_count": 11,
   "metadata": {},
   "outputs": [],
   "source": [
    "from nltk.stem.wordnet import WordNetLemmatizer\n",
    "\n",
    "preprocessing = preprocessing.apply(lambda x: \" \".join(WordNetLemmatizer().lemmatize(i,\"v\") \n",
    "                                                       for i in x.split()))"
   ]
  },
  {
   "cell_type": "code",
   "execution_count": 12,
   "metadata": {},
   "outputs": [],
   "source": [
    "#preprocessing"
   ]
  },
  {
   "cell_type": "code",
   "execution_count": 13,
   "metadata": {},
   "outputs": [],
   "source": [
    "df[\"text\"] = preprocessing"
   ]
  },
  {
   "cell_type": "code",
   "execution_count": 14,
   "metadata": {},
   "outputs": [],
   "source": [
    "dff = df.copy()"
   ]
  },
  {
   "cell_type": "code",
   "execution_count": 15,
   "metadata": {},
   "outputs": [
    {
     "data": {
      "text/html": [
       "<div>\n",
       "<style scoped>\n",
       "    .dataframe tbody tr th:only-of-type {\n",
       "        vertical-align: middle;\n",
       "    }\n",
       "\n",
       "    .dataframe tbody tr th {\n",
       "        vertical-align: top;\n",
       "    }\n",
       "\n",
       "    .dataframe thead th {\n",
       "        text-align: right;\n",
       "    }\n",
       "</style>\n",
       "<table border=\"1\" class=\"dataframe\">\n",
       "  <thead>\n",
       "    <tr style=\"text-align: right;\">\n",
       "      <th></th>\n",
       "      <th>stars</th>\n",
       "      <th>text</th>\n",
       "    </tr>\n",
       "  </thead>\n",
       "  <tbody>\n",
       "    <tr>\n",
       "      <td>0</td>\n",
       "      <td>5</td>\n",
       "      <td>wife take birthday breakfast excellent weather...</td>\n",
       "    </tr>\n",
       "    <tr>\n",
       "      <td>1</td>\n",
       "      <td>5</td>\n",
       "      <td>idea people give bad review place go show plea...</td>\n",
       "    </tr>\n",
       "    <tr>\n",
       "      <td>2</td>\n",
       "      <td>4</td>\n",
       "      <td>love gyro plate rice good also dig candy selec...</td>\n",
       "    </tr>\n",
       "    <tr>\n",
       "      <td>3</td>\n",
       "      <td>5</td>\n",
       "      <td>rosie dakota love chaparral dog park convenien...</td>\n",
       "    </tr>\n",
       "    <tr>\n",
       "      <td>4</td>\n",
       "      <td>5</td>\n",
       "      <td>general manager scott petello good egg go deta...</td>\n",
       "    </tr>\n",
       "  </tbody>\n",
       "</table>\n",
       "</div>"
      ],
      "text/plain": [
       "   stars                                               text\n",
       "0      5  wife take birthday breakfast excellent weather...\n",
       "1      5  idea people give bad review place go show plea...\n",
       "2      4  love gyro plate rice good also dig candy selec...\n",
       "3      5  rosie dakota love chaparral dog park convenien...\n",
       "4      5  general manager scott petello good egg go deta..."
      ]
     },
     "execution_count": 15,
     "metadata": {},
     "output_type": "execute_result"
    }
   ],
   "source": [
    "dff.head()"
   ]
  },
  {
   "cell_type": "code",
   "execution_count": 16,
   "metadata": {},
   "outputs": [
    {
     "name": "stderr",
     "output_type": "stream",
     "text": [
      "C:\\Users\\user\\Anaconda3\\lib\\site-packages\\ipykernel_launcher.py:1: SettingWithCopyWarning: \n",
      "A value is trying to be set on a copy of a slice from a DataFrame\n",
      "\n",
      "See the caveats in the documentation: http://pandas.pydata.org/pandas-docs/stable/user_guide/indexing.html#returning-a-view-versus-a-copy\n",
      "  \"\"\"Entry point for launching an IPython kernel.\n",
      "C:\\Users\\user\\Anaconda3\\lib\\site-packages\\ipykernel_launcher.py:2: SettingWithCopyWarning: \n",
      "A value is trying to be set on a copy of a slice from a DataFrame\n",
      "\n",
      "See the caveats in the documentation: http://pandas.pydata.org/pandas-docs/stable/user_guide/indexing.html#returning-a-view-versus-a-copy\n",
      "  \n"
     ]
    }
   ],
   "source": [
    "dff.stars[dff.stars == 2] = 1 \n",
    "dff.stars[dff.stars == 4] = 5"
   ]
  },
  {
   "cell_type": "code",
   "execution_count": 17,
   "metadata": {},
   "outputs": [
    {
     "data": {
      "text/html": [
       "<div>\n",
       "<style scoped>\n",
       "    .dataframe tbody tr th:only-of-type {\n",
       "        vertical-align: middle;\n",
       "    }\n",
       "\n",
       "    .dataframe tbody tr th {\n",
       "        vertical-align: top;\n",
       "    }\n",
       "\n",
       "    .dataframe thead th {\n",
       "        text-align: right;\n",
       "    }\n",
       "</style>\n",
       "<table border=\"1\" class=\"dataframe\">\n",
       "  <thead>\n",
       "    <tr style=\"text-align: right;\">\n",
       "      <th></th>\n",
       "      <th>stars</th>\n",
       "      <th>text</th>\n",
       "    </tr>\n",
       "  </thead>\n",
       "  <tbody>\n",
       "    <tr>\n",
       "      <td>0</td>\n",
       "      <td>5</td>\n",
       "      <td>wife take birthday breakfast excellent weather...</td>\n",
       "    </tr>\n",
       "    <tr>\n",
       "      <td>1</td>\n",
       "      <td>5</td>\n",
       "      <td>idea people give bad review place go show plea...</td>\n",
       "    </tr>\n",
       "    <tr>\n",
       "      <td>2</td>\n",
       "      <td>5</td>\n",
       "      <td>love gyro plate rice good also dig candy selec...</td>\n",
       "    </tr>\n",
       "    <tr>\n",
       "      <td>3</td>\n",
       "      <td>5</td>\n",
       "      <td>rosie dakota love chaparral dog park convenien...</td>\n",
       "    </tr>\n",
       "    <tr>\n",
       "      <td>4</td>\n",
       "      <td>5</td>\n",
       "      <td>general manager scott petello good egg go deta...</td>\n",
       "    </tr>\n",
       "  </tbody>\n",
       "</table>\n",
       "</div>"
      ],
      "text/plain": [
       "   stars                                               text\n",
       "0      5  wife take birthday breakfast excellent weather...\n",
       "1      5  idea people give bad review place go show plea...\n",
       "2      5  love gyro plate rice good also dig candy selec...\n",
       "3      5  rosie dakota love chaparral dog park convenien...\n",
       "4      5  general manager scott petello good egg go deta..."
      ]
     },
     "execution_count": 17,
     "metadata": {},
     "output_type": "execute_result"
    }
   ],
   "source": [
    "dff.head()"
   ]
  },
  {
   "cell_type": "code",
   "execution_count": 18,
   "metadata": {},
   "outputs": [
    {
     "data": {
      "text/html": [
       "<div>\n",
       "<style scoped>\n",
       "    .dataframe tbody tr th:only-of-type {\n",
       "        vertical-align: middle;\n",
       "    }\n",
       "\n",
       "    .dataframe tbody tr th {\n",
       "        vertical-align: top;\n",
       "    }\n",
       "\n",
       "    .dataframe thead th {\n",
       "        text-align: right;\n",
       "    }\n",
       "</style>\n",
       "<table border=\"1\" class=\"dataframe\">\n",
       "  <thead>\n",
       "    <tr style=\"text-align: right;\">\n",
       "      <th></th>\n",
       "      <th>stars</th>\n",
       "      <th>text</th>\n",
       "    </tr>\n",
       "  </thead>\n",
       "  <tbody>\n",
       "    <tr>\n",
       "      <td>9995</td>\n",
       "      <td>3</td>\n",
       "      <td>first visit lunch today use groupon order brus...</td>\n",
       "    </tr>\n",
       "    <tr>\n",
       "      <td>9996</td>\n",
       "      <td>5</td>\n",
       "      <td>call house deliciousness could go item item bl...</td>\n",
       "    </tr>\n",
       "    <tr>\n",
       "      <td>9997</td>\n",
       "      <td>5</td>\n",
       "      <td>recently visit olive ivy business last week vi...</td>\n",
       "    </tr>\n",
       "    <tr>\n",
       "      <td>9998</td>\n",
       "      <td>1</td>\n",
       "      <td>nephew move scottsdale recently bunch friends ...</td>\n",
       "    </tr>\n",
       "    <tr>\n",
       "      <td>9999</td>\n",
       "      <td>5</td>\n",
       "      <td>locations star average think arizona really fa...</td>\n",
       "    </tr>\n",
       "  </tbody>\n",
       "</table>\n",
       "</div>"
      ],
      "text/plain": [
       "      stars                                               text\n",
       "9995      3  first visit lunch today use groupon order brus...\n",
       "9996      5  call house deliciousness could go item item bl...\n",
       "9997      5  recently visit olive ivy business last week vi...\n",
       "9998      1  nephew move scottsdale recently bunch friends ...\n",
       "9999      5  locations star average think arizona really fa..."
      ]
     },
     "execution_count": 18,
     "metadata": {},
     "output_type": "execute_result"
    }
   ],
   "source": [
    "dff.tail()"
   ]
  },
  {
   "cell_type": "code",
   "execution_count": 19,
   "metadata": {},
   "outputs": [],
   "source": [
    "from sklearn.linear_model import LogisticRegression\n",
    "from sklearn.ensemble import RandomForestClassifier\n",
    "from sklearn.naive_bayes import MultinomialNB\n",
    "from sklearn.feature_extraction.text import TfidfVectorizer\n",
    "from sklearn.feature_extraction.text import CountVectorizer\n",
    "from sklearn.metrics import mean_squared_error\n",
    "from math import sqrt\n",
    "\n",
    "tvec = TfidfVectorizer(stop_words=None, max_features=100000, ngram_range=(1, 3))\n",
    "cv = CountVectorizer()\n",
    "lr = LogisticRegression()\n",
    "mb = MultinomialNB()\n",
    "rfc = RandomForestClassifier(n_estimators=40)\n",
    "\n",
    "from sklearn.model_selection import StratifiedKFold\n",
    "from sklearn.metrics import precision_score, recall_score, f1_score\n",
    "\n",
    "def s_cv(splits, X, Y, pipeline, average_method):\n",
    "    \n",
    "    kfold = StratifiedKFold(n_splits=splits, shuffle=True, random_state=777)\n",
    "    accuracy = []\n",
    "    precision = []\n",
    "    recall = []\n",
    "    f1 = []\n",
    "    for train, test in kfold.split(X, Y):\n",
    "        s_fit = pipeline.fit(X[train], Y[train])\n",
    "        prediction = s_fit.predict(X[test])\n",
    "        scores = s_fit.score(X[test],Y[test])\n",
    "        \n",
    "        accuracy.append(scores * 100)\n",
    "        precision.append(precision_score(Y[test], prediction, average=average_method)*100)\n",
    "        print('              1          2          3')\n",
    "        print('precision:',precision_score(Y[test], prediction, average=None))\n",
    "        recall.append(recall_score(Y[test], prediction, average=average_method)*100)\n",
    "        print('recall:   ',recall_score(Y[test], prediction, average=None))\n",
    "        f1.append(f1_score(Y[test], prediction, average=average_method)*100)\n",
    "        print('f1 score: ',f1_score(Y[test], prediction, average=None))\n",
    "        \n",
    "        rms = sqrt(mean_squared_error(Y[test], prediction))\n",
    "        print(rms)\n",
    "        \n",
    "       \n",
    "    print('-'*50)\n",
    "\n",
    "    print(\"accuracy: %.2f%% (+/- %.2f%%)\" % (np.mean(accuracy), np.std(accuracy)))\n",
    "    print(\"precision: %.2f%% (+/- %.2f%%)\" % (np.mean(precision), np.std(precision)))\n",
    "    print(\"recall: %.2f%% (+/- %.2f%%)\" % (np.mean(recall), np.std(recall)))\n",
    "    print(\"f1 score: %.2f%% (+/- %.2f%%)\" % (np.mean(f1), np.std(f1)))"
   ]
  },
  {
   "cell_type": "code",
   "execution_count": 34,
   "metadata": {},
   "outputs": [
    {
     "name": "stdout",
     "output_type": "stream",
     "text": [
      "              1          2          3\n",
      "precision: [0.82142857 0.70833333 0.75248619]\n",
      "recall:    [0.41071429 0.05802048 0.99198835]\n",
      "f1 score:  [0.54761905 0.10725552 0.85579642]\n",
      "1.476421409970805\n",
      "              1          2          3\n",
      "precision: [0.82608696 0.61904762 0.74862486]\n",
      "recall:    [0.39701493 0.04452055 0.99126001]\n",
      "f1 score:  [0.53629032 0.08306709 0.85302413]\n",
      "1.4906374475371267\n",
      "              1          2          3\n",
      "precision: [0.82716049 0.59259259 0.75317504]\n",
      "recall:    [0.4        0.05479452 0.99344501]\n",
      "f1 score:  [0.53923541 0.10031348 0.85678392]\n",
      "1.4717336715588183\n",
      "              1          2          3\n",
      "precision: [0.82911392 0.59259259 0.75137817]\n",
      "recall:    [0.39104478 0.05479452 0.99344023]\n",
      "f1 score:  [0.53144016 0.10031348 0.85561833]\n",
      "1.480234963704711\n",
      "              1          2          3\n",
      "precision: [0.86184211 0.59259259 0.7467033 ]\n",
      "recall:    [0.39104478 0.05479452 0.99052478]\n",
      "f1 score:  [0.53798768 0.10031348 0.85150376]\n",
      "1.4910102467045252\n",
      "--------------------------------------------------\n",
      "accuracy: 75.54% (+/- 0.18%)\n",
      "precision: 73.49% (+/- 1.35%)\n",
      "recall: 48.12% (+/- 0.33%)\n",
      "f1 score: 49.71% (+/- 0.42%)\n"
     ]
    }
   ],
   "source": [
    "from sklearn.pipeline import Pipeline\n",
    "original_pipeline_LR = Pipeline([\n",
    "    ('vectorizer', tvec),\n",
    "    ('classifier', lr)\n",
    "])\n",
    "\n",
    "s_cv(5, dff.text, dff.stars, original_pipeline_LR, 'macro')"
   ]
  },
  {
   "cell_type": "code",
   "execution_count": 21,
   "metadata": {},
   "outputs": [],
   "source": [
    "from imblearn.pipeline import make_pipeline\n",
    "from imblearn.over_sampling import ADASYN, SMOTE, RandomOverSampler\n",
    "\n",
    "ROS_pipeline_LR = make_pipeline(tvec, RandomOverSampler(random_state=777),lr)\n",
    "SMOTE_pipeline_LR = make_pipeline(tvec, SMOTE(random_state=777),lr)"
   ]
  },
  {
   "cell_type": "code",
   "execution_count": 61,
   "metadata": {},
   "outputs": [
    {
     "name": "stdout",
     "output_type": "stream",
     "text": [
      "              1          2          3\n",
      "precision: [0.66288952 0.4        0.86921965]\n",
      "recall:    [0.69642857 0.36177474 0.87618354]\n",
      "f1 score:  [0.67924528 0.37992832 0.8726877 ]\n",
      "1.2626977446743122\n",
      "              1          2          3\n",
      "precision: [0.626703   0.42361111 0.88252788]\n",
      "recall:    [0.68656716 0.41780822 0.86453023]\n",
      "f1 score:  [0.65527066 0.42068966 0.87343635]\n",
      "1.2930583900195691\n",
      "              1          2          3\n",
      "precision: [0.66137566 0.43494424 0.89209165]\n",
      "recall:    [0.74626866 0.40068493 0.87909687]\n",
      "f1 score:  [0.70126227 0.4171123  0.88554659]\n",
      "1.202497401244593\n",
      "              1          2          3\n",
      "precision: [0.67052023 0.4760274  0.88831741]\n",
      "recall:    [0.69253731 0.4760274  0.88119534]\n",
      "f1 score:  [0.68135095 0.4760274  0.88474204]\n",
      "1.2315674480878402\n",
      "              1          2          3\n",
      "precision: [0.68838527 0.41114983 0.87932303]\n",
      "recall:    [0.72537313 0.40410959 0.87099125]\n",
      "f1 score:  [0.70639535 0.40759931 0.87513731]\n",
      "1.219320864943204\n",
      "--------------------------------------------------\n",
      "accuracy: 77.92% (+/- 0.84%)\n",
      "precision: 65.78% (+/- 1.28%)\n",
      "recall: 66.53% (+/- 1.36%)\n",
      "f1 score: 66.11% (+/- 1.31%)\n"
     ]
    }
   ],
   "source": [
    "s_cv(5, dff.text, dff.stars, ROS_pipeline_LR, 'macro')"
   ]
  },
  {
   "cell_type": "code",
   "execution_count": 62,
   "metadata": {},
   "outputs": [
    {
     "name": "stdout",
     "output_type": "stream",
     "text": [
      "              1          2          3\n",
      "precision: [0.63387978 0.41338583 0.87120116]\n",
      "recall:    [0.69047619 0.35836177 0.87691187]\n",
      "f1 score:  [0.66096866 0.38391225 0.87404719]\n",
      "1.2900913395320752\n",
      "              1          2          3\n",
      "precision: [0.64402174 0.42857143 0.88387574]\n",
      "recall:    [0.70746269 0.4109589  0.87035688]\n",
      "f1 score:  [0.6742532  0.41958042 0.87706422]\n",
      "1.2617448236470004\n",
      "              1          2          3\n",
      "precision: [0.66486486 0.42424242 0.88506589]\n",
      "recall:    [0.73432836 0.38356164 0.88055353]\n",
      "f1 score:  [0.69787234 0.4028777  0.88280394]\n",
      "1.2132600710482482\n",
      "              1          2          3\n",
      "precision: [0.66855524 0.49253731 0.88171263]\n",
      "recall:    [0.70447761 0.45205479 0.88556851]\n",
      "f1 score:  [0.68604651 0.47142857 0.88363636]\n",
      "1.2461044852636143\n",
      "              1          2          3\n",
      "precision: [0.68529412 0.4047619  0.87765568]\n",
      "recall:    [0.69552239 0.40753425 0.87317784]\n",
      "f1 score:  [0.69037037 0.40614334 0.87541103]\n",
      "1.2266834865555556\n",
      "--------------------------------------------------\n",
      "accuracy: 77.93% (+/- 0.77%)\n",
      "precision: 65.73% (+/- 1.35%)\n",
      "recall: 66.21% (+/- 1.25%)\n",
      "f1 score: 65.91% (+/- 1.30%)\n"
     ]
    }
   ],
   "source": [
    "s_cv(5, dff.text, dff.stars, SMOTE_pipeline_LR, 'macro')"
   ]
  },
  {
   "cell_type": "code",
   "execution_count": 63,
   "metadata": {},
   "outputs": [
    {
     "name": "stdout",
     "output_type": "stream",
     "text": [
      "              1          2          3\n",
      "precision: [0.54298643 0.33333333 0.90384615]\n",
      "recall:    [0.71428571 0.53242321 0.7188638 ]\n",
      "f1 score:  [0.61696658 0.40998686 0.80081136]\n",
      "1.501913531380637\n",
      "              1          2          3\n",
      "precision: [0.54816514 0.30980392 0.92030361]\n",
      "recall:    [0.71343284 0.54109589 0.70648216]\n",
      "f1 score:  [0.61997406 0.39401496 0.79934075]\n",
      "1.4656056768449008\n",
      "              1          2          3\n",
      "precision: [0.56043956 0.32751092 0.91628335]\n",
      "recall:    [0.76119403 0.51369863 0.72541879]\n",
      "f1 score:  [0.64556962 0.4        0.8097561 ]\n",
      "1.4463747785411636\n",
      "              1          2          3\n",
      "precision: [0.57345972 0.35483871 0.92044403]\n",
      "recall:    [0.72238806 0.60273973 0.72521866]\n",
      "f1 score:  [0.63936592 0.44670051 0.81125153]\n",
      "1.439804333324195\n",
      "              1          2          3\n",
      "precision: [0.58095238 0.32857143 0.90817264]\n",
      "recall:    [0.72835821 0.55136986 0.72084548]\n",
      "f1 score:  [0.64635762 0.41176471 0.80373832]\n",
      "1.4425812005776764\n",
      "--------------------------------------------------\n",
      "accuracy: 69.58% (+/- 0.80%)\n",
      "precision: 60.19% (+/- 0.87%)\n",
      "recall: 66.52% (+/- 1.07%)\n",
      "f1 score: 61.70% (+/- 0.97%)\n"
     ]
    }
   ],
   "source": [
    "from imblearn.under_sampling import NearMiss, RandomUnderSampler\n",
    "\n",
    "RUS_pipeline_LR = make_pipeline(tvec, RandomUnderSampler(random_state=777),lr)\n",
    "\n",
    "s_cv(5, dff.text, dff.stars, RUS_pipeline_LR, 'macro')"
   ]
  },
  {
   "cell_type": "code",
   "execution_count": 74,
   "metadata": {},
   "outputs": [
    {
     "data": {
      "image/png": "[encoded data removed]",
      "text/plain": [
       "<Figure size 432x288 with 1 Axes>"
      ]
     },
     "metadata": {
      "needs_background": "light"
     },
     "output_type": "display_data"
    }
   ],
   "source": [
    "import matplotlib.pyplot as plt\n",
    "from sklearn.model_selection import learning_curve\n",
    "from sklearn.model_selection import train_test_split\n",
    "\n",
    "train_sizes, train_scores, test_scores =\\\n",
    "                learning_curve(estimator=SMOTE_pipeline_LR,\n",
    "                               X=dff.text,\n",
    "                               y=dff.stars,\n",
    "                               train_sizes=np.linspace(0.1, 1.0, 10),\n",
    "                               cv=10,\n",
    "                               n_jobs=1)\n",
    "\n",
    "train_mean = np.mean(train_scores, axis=1)\n",
    "train_std = np.std(train_scores, axis=1)\n",
    "test_mean = np.mean(test_scores, axis=1)\n",
    "test_std = np.std(test_scores, axis=1)\n",
    "\n",
    "plt.plot(train_sizes, train_mean,\n",
    "         color='blue', marker='o',\n",
    "         markersize=5, label='Training accuracy')\n",
    "\n",
    "plt.fill_between(train_sizes,\n",
    "                 train_mean + train_std,\n",
    "                 train_mean - train_std,\n",
    "                 alpha=0.15, color='blue')\n",
    "\n",
    "plt.plot(train_sizes, test_mean,\n",
    "         color='green', linestyle='--',\n",
    "         marker='s', markersize=5,\n",
    "         label='Validation accuracy')\n",
    "\n",
    "plt.fill_between(train_sizes,\n",
    "                 test_mean + test_std,\n",
    "                 test_mean - test_std,\n",
    "                 alpha=0.15, color='green')\n",
    "\n",
    "plt.grid()\n",
    "plt.xlabel('Number of training examples')\n",
    "plt.ylabel('Accuracy')\n",
    "plt.legend(loc='lower right')\n",
    "plt.ylim([0.2, 1.03])\n",
    "plt.tight_layout()\n",
    "plt.show()"
   ]
  },
  {
   "cell_type": "code",
   "execution_count": 73,
   "metadata": {},
   "outputs": [
    {
     "data": {
      "image/png": "[encoded data removed]",
      "text/plain": [
       "<Figure size 432x288 with 1 Axes>"
      ]
     },
     "metadata": {
      "needs_background": "light"
     },
     "output_type": "display_data"
    }
   ],
   "source": [
    "from sklearn.model_selection import validation_curve\n",
    "\n",
    "\n",
    "param_range = [0.001, 0.01, 0.1, 1.0, 10.0, 100.0]\n",
    "train_scores, test_scores = validation_curve(\n",
    "                estimator=SMOTE_pipeline_LR, \n",
    "                X=dff.text, \n",
    "                y=dff.stars, \n",
    "                param_name='logisticregression__C', \n",
    "                param_range=param_range,\n",
    "                cv=10)\n",
    "\n",
    "train_mean = np.mean(train_scores, axis=1)\n",
    "train_std = np.std(train_scores, axis=1)\n",
    "test_mean = np.mean(test_scores, axis=1)\n",
    "test_std = np.std(test_scores, axis=1)\n",
    "\n",
    "plt.plot(param_range, train_mean, \n",
    "         color='blue', marker='o', \n",
    "         markersize=5, label='Training accuracy')\n",
    "\n",
    "plt.fill_between(param_range, train_mean + train_std,\n",
    "                 train_mean - train_std, alpha=0.15,\n",
    "                 color='blue')\n",
    "\n",
    "plt.plot(param_range, test_mean, \n",
    "         color='green', linestyle='--', \n",
    "         marker='s', markersize=5, \n",
    "         label='Validation accuracy')\n",
    "\n",
    "plt.fill_between(param_range, \n",
    "                 test_mean + test_std,\n",
    "                 test_mean - test_std, \n",
    "                 alpha=0.15, color='green')\n",
    "\n",
    "plt.grid()\n",
    "plt.xscale('log')\n",
    "plt.legend(loc='lower right')\n",
    "plt.xlabel('Parameter C')\n",
    "plt.ylabel('Accuracy')\n",
    "plt.ylim([0.2, 1.0])\n",
    "plt.tight_layout()\n",
    "plt.show()"
   ]
  },
  {
   "cell_type": "code",
   "execution_count": 29,
   "metadata": {},
   "outputs": [
    {
     "data": {
      "text/plain": [
       "(1274, 1087, 5139)"
      ]
     },
     "execution_count": 29,
     "metadata": {},
     "output_type": "execute_result"
    }
   ],
   "source": [
    "from sklearn.model_selection import train_test_split\n",
    "X_train, X_test, y_train, y_test = train_test_split(\n",
    "     dff.text, dff.stars, test_size=0.25, random_state=42)\n",
    "\n",
    "sum(y_train == 1), sum(y_train == 3), sum(y_train == 5)"
   ]
  },
  {
   "cell_type": "code",
   "execution_count": 68,
   "metadata": {},
   "outputs": [
    {
     "data": {
      "text/plain": [
       "(402, 374, 1724)"
      ]
     },
     "execution_count": 68,
     "metadata": {},
     "output_type": "execute_result"
    }
   ],
   "source": [
    "sum(y_test == 1), sum(y_test == 3), sum(y_test == 5)"
   ]
  },
  {
   "cell_type": "code",
   "execution_count": 30,
   "metadata": {},
   "outputs": [],
   "source": [
    "from sklearn.model_selection import GridSearchCV\n",
    "from sklearn.feature_extraction.text import TfidfTransformer\n",
    "from sklearn.feature_extraction.text import CountVectorizer\n",
    "from imblearn.pipeline import Pipeline\n",
    "from sklearn.feature_selection import SelectFromModel\n",
    "\n",
    "tfidf = TfidfVectorizer(strip_accents=None,\n",
    "                        lowercase=False,\n",
    "                        preprocessor=None)\n",
    "\n",
    "model = Pipeline([\n",
    "        ('vect', tfidf),\n",
    "        ('sampling', SMOTE(random_state=42)),\n",
    "        ('feature_selection', SelectFromModel(estimator=LogisticRegression(random_state=0, solver='liblinear'))),\n",
    "        ('clf', LogisticRegression(random_state=0, solver='liblinear'))\n",
    "    ])\n",
    "\n",
    "\n",
    "param_grid = [{'vect__ngram_range': [(1, 3)],\n",
    "               'clf__penalty': ['l1', 'l2'],\n",
    "               'clf__C': [1.0, 10.0, 100.0]},\n",
    "              {'vect__ngram_range': [(1, 3)],\n",
    "               'vect__use_idf':[False],\n",
    "               'vect__norm':[None],\n",
    "               'clf__penalty': ['l1', 'l2'],\n",
    "               'clf__C': [1.0, 10.0, 100.0]},\n",
    "              ]\n",
    "\n",
    "gs_lr_tfidf = GridSearchCV(model, param_grid,\n",
    "                           scoring='accuracy',\n",
    "                           cv=5,\n",
    "                           verbose=2,\n",
    "                           n_jobs=-1)               "
   ]
  },
  {
   "cell_type": "code",
   "execution_count": 31,
   "metadata": {
    "scrolled": true
   },
   "outputs": [
    {
     "name": "stdout",
     "output_type": "stream",
     "text": [
      "Fitting 5 folds for each of 12 candidates, totalling 60 fits\n"
     ]
    },
    {
     "name": "stderr",
     "output_type": "stream",
     "text": [
      "[Parallel(n_jobs=-1)]: Using backend LokyBackend with 8 concurrent workers.\n",
      "[Parallel(n_jobs=-1)]: Done  25 tasks      | elapsed: 24.9min\n",
      "[Parallel(n_jobs=-1)]: Done  60 out of  60 | elapsed: 53.8min finished\n"
     ]
    },
    {
     "data": {
      "text/plain": [
       "GridSearchCV(cv=5, error_score='raise-deprecating',\n",
       "             estimator=Pipeline(memory=None,\n",
       "                                steps=[('vect',\n",
       "                                        TfidfVectorizer(analyzer='word',\n",
       "                                                        binary=False,\n",
       "                                                        decode_error='strict',\n",
       "                                                        dtype=<class 'numpy.float64'>,\n",
       "                                                        encoding='utf-8',\n",
       "                                                        input='content',\n",
       "                                                        lowercase=False,\n",
       "                                                        max_df=1.0,\n",
       "                                                        max_features=None,\n",
       "                                                        min_df=1,\n",
       "                                                        ngram_range=(1, 1),\n",
       "                                                        norm='l2',\n",
       "                                                        preprocessor=None,\n",
       "                                                        smooth_idf=True,\n",
       "                                                        stop_word...\n",
       "                                                           warm_start=False))],\n",
       "                                verbose=False),\n",
       "             iid='warn', n_jobs=-1,\n",
       "             param_grid=[{'clf__C': [1.0, 10.0, 100.0],\n",
       "                          'clf__penalty': ['l1', 'l2'],\n",
       "                          'vect__ngram_range': [(1, 3)]},\n",
       "                         {'clf__C': [1.0, 10.0, 100.0],\n",
       "                          'clf__penalty': ['l1', 'l2'],\n",
       "                          'vect__ngram_range': [(1, 3)], 'vect__norm': [None],\n",
       "                          'vect__use_idf': [False]}],\n",
       "             pre_dispatch='2*n_jobs', refit=True, return_train_score=False,\n",
       "             scoring='accuracy', verbose=2)"
      ]
     },
     "execution_count": 31,
     "metadata": {},
     "output_type": "execute_result"
    }
   ],
   "source": [
    "gs_lr_tfidf.fit(X_train, y_train)"
   ]
  },
  {
   "cell_type": "code",
   "execution_count": 32,
   "metadata": {},
   "outputs": [
    {
     "name": "stdout",
     "output_type": "stream",
     "text": [
      "Best parameter set: {'clf__C': 10.0, 'clf__penalty': 'l2', 'vect__ngram_range': (1, 3)} \n",
      "CV Accuracy: 0.787\n"
     ]
    }
   ],
   "source": [
    "print('Best parameter set: %s ' % gs_lr_tfidf.best_params_)\n",
    "print('CV Accuracy: %.3f' % gs_lr_tfidf.best_score_)"
   ]
  },
  {
   "cell_type": "code",
   "execution_count": 33,
   "metadata": {},
   "outputs": [
    {
     "name": "stdout",
     "output_type": "stream",
     "text": [
      "Test Accuracy: 0.784\n"
     ]
    }
   ],
   "source": [
    "clf = gs_lr_tfidf.best_estimator_\n",
    "print('Test Accuracy: %.3f' % clf.score(X_test, y_test))"
   ]
  },
  {
   "cell_type": "code",
   "execution_count": 24,
   "metadata": {},
   "outputs": [
    {
     "name": "stdout",
     "output_type": "stream",
     "text": [
      "              1          2          3\n",
      "precision: [0.65944272 0.33464567 0.83508772]\n",
      "recall:    [0.63392857 0.29010239 0.86671522]\n",
      "f1 score:  [0.64643399 0.31078611 0.85060758]\n",
      "1.3594674869785772\n",
      "              1          2          3\n",
      "precision: [0.60660661 0.33596838 0.83380481]\n",
      "recall:    [0.60298507 0.29109589 0.85870357]\n",
      "f1 score:  [0.60479042 0.31192661 0.84607104]\n",
      "1.421970463828275\n",
      "              1          2          3\n",
      "precision: [0.65443425 0.31854839 0.83719298]\n",
      "recall:    [0.63880597 0.27054795 0.86890022]\n",
      "f1 score:  [0.64652568 0.29259259 0.85275197]\n",
      "1.3490737563232043\n",
      "              1          2          3\n",
      "precision: [0.63987138 0.34572491 0.82804792]\n",
      "recall:    [0.59402985 0.31849315 0.85641399]\n",
      "f1 score:  [0.61609907 0.3315508  0.84199212]\n",
      "1.4166875102685403\n",
      "              1          2          3\n",
      "precision: [0.6572327  0.32098765 0.82892907]\n",
      "recall:    [0.6238806  0.26712329 0.86880466]\n",
      "f1 score:  [0.64012251 0.29158879 0.84839858]\n",
      "1.3736606100983852\n",
      "--------------------------------------------------\n",
      "accuracy: 73.86% (+/- 0.44%)\n",
      "precision: 60.24% (+/- 0.57%)\n",
      "recall: 59.00% (+/- 0.45%)\n",
      "f1 score: 59.55% (+/- 0.49%)\n"
     ]
    }
   ],
   "source": [
    "SMOTE_pipeline_MB = make_pipeline(cv, SMOTE(random_state=777),mb)\n",
    "\n",
    "s_cv(5, dff.text, dff.stars, SMOTE_pipeline_MB, 'macro')"
   ]
  },
  {
   "cell_type": "code",
   "execution_count": 25,
   "metadata": {},
   "outputs": [
    {
     "name": "stdout",
     "output_type": "stream",
     "text": [
      "              1          2          3\n",
      "precision: [0.67295597 0.23076923 0.73340832]\n",
      "recall:    [0.31845238 0.05119454 0.94974508]\n",
      "f1 score:  [0.43232323 0.08379888 0.82767375]\n",
      "1.6239958858823003\n",
      "              1          2          3\n",
      "precision: [0.63276836 0.33333333 0.73734533]\n",
      "recall:    [0.33432836 0.05136986 0.95484341]\n",
      "f1 score:  [0.4375     0.08902077 0.83211679]\n",
      "1.6291101865742537\n",
      "              1          2          3\n",
      "precision: [0.65269461 0.31884058 0.74433107]\n",
      "recall:    [0.32537313 0.07534247 0.95630007]\n",
      "f1 score:  [0.43426295 0.12188366 0.83710551]\n",
      "1.5956190021430554\n",
      "              1          2          3\n",
      "precision: [0.67901235 0.45652174 0.73925181]\n",
      "recall:    [0.32835821 0.07191781 0.96501458]\n",
      "f1 score:  [0.44265594 0.12426036 0.83717989]\n",
      "1.6053936104028075\n",
      "              1          2          3\n",
      "precision: [0.61413043 0.33846154 0.744     ]\n",
      "recall:    [0.33731343 0.07534247 0.94897959]\n",
      "f1 score:  [0.43545279 0.1232493  0.83408072]\n",
      "1.6184281432388072\n",
      "--------------------------------------------------\n",
      "accuracy: 72.00% (+/- 0.51%)\n",
      "precision: 57.52% (+/- 2.65%)\n",
      "recall: 44.96% (+/- 0.57%)\n",
      "f1 score: 45.95% (+/- 0.77%)\n"
     ]
    }
   ],
   "source": [
    "SMOTE_pipeline_RFC = make_pipeline(tvec, SMOTE(random_state=777),rfc)\n",
    "\n",
    "s_cv(5, dff.text, dff.stars, SMOTE_pipeline_RFC, 'macro')"
   ]
  },
  {
   "cell_type": "code",
   "execution_count": null,
   "metadata": {},
   "outputs": [],
   "source": []
  }
 ],
 "metadata": {
  "kernelspec": {
   "display_name": "Python 3",
   "language": "python",
   "name": "python3"
  },
  "language_info": {
   "codemirror_mode": {
    "name": "ipython",
    "version": 3
   },
   "file_extension": ".py",
   "mimetype": "text/x-python",
   "name": "python",
   "nbconvert_exporter": "python",
   "pygments_lexer": "ipython3",
   "version": "3.7.4"
  }
 },
 "nbformat": 4,
 "nbformat_minor": 2
}
